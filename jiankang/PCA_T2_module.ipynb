{
 "cells": [
  {
   "cell_type": "markdown",
   "metadata": {},
   "source": [
    "## 1.加载依赖包"
   ]
  },
  {
   "cell_type": "code",
   "execution_count": null,
   "metadata": {},
   "outputs": [],
   "source": [
    "import numpy as np\n",
    "import pandas as pd\n",
    "import gc\n",
    "import lightgbm as lgb\n",
    "import warnings\n",
    "import gc\n",
    "from sklearn.preprocessing import StandardScaler\n",
    "import matplotlib as  mpl\n",
    "from matplotlib  import pyplot as plt\n",
    "mpl.rcParams[u'font.sans-serif'] = ['simhei']\n",
    "mpl.rcParams['axes.unicode_minus'] = False\n",
    "from datetime import timedelta\n",
    "from datetime import datetime\n",
    "warnings.filterwarnings('ignore')"
   ]
  },
  {
   "cell_type": "markdown",
   "metadata": {},
   "source": [
    "## 2.获取历史数据\n",
    "功能：针对特定场景数据做相应的处理并打上鼓掌标签，不具备通用性    \n",
    "输入：dataset.csv（特征数据）和dbd_faultcode.csv（故障记录）  \n",
    "输出：his_x（特征） 和 his_y（标签），his_x,his_y为处理过历史数据，用于接下来的模型训练"
   ]
  },
  {
   "cell_type": "code",
   "execution_count": 6,
   "metadata": {},
   "outputs": [
    {
     "name": "stdout",
     "output_type": "stream",
     "text": [
      "CPU times: user 1min 19s, sys: 8.42 s, total: 1min 27s\n",
      "Wall time: 1min 27s\n"
     ]
    }
   ],
   "source": [
    "%%time\n",
    "# 1. 读取数据\n",
    "dataset = pd.read_csv('./train/dataset.csv', index_col=0)\n",
    "dbd_faultcode = pd.read_csv('./train/dbd_faultcode.csv', encoding='GBK' )\n",
    "train_data = dataset.merge(dbd_faultcode,how = 'left',on = [\"SPN\",\"FMI\"])\n",
    "up_data = train_data\n",
    "up_data.COLLECTTIME = pd.to_datetime(up_data.COLLECTTIME)\n",
    "up_data.sort_values(by='COLLECTTIME', inplace=True)\n",
    "# 删除明显异常的行\n",
    "drop_rows = [0, 1, 2, 3]\n",
    "drop_rows.extend([x for x in range(1875076, 1875088)])\n",
    "up_data.drop(drop_rows, axis=0, inplace=True)\n",
    "# 默认填充为0\n",
    "up_data[\"FLAG\"] = 0\n",
    "# 筛选出故障编码不为空的UNIQUENO(一个UNIQUENO可假设为一台机器)\n",
    "prob_uniqs = up_data[up_data.CODE.notnull()].UNIQUENO.unique()\n",
    "\n",
    "# 2.出现故障的时间段进行标记\n",
    "'''\n",
    "minutes = 300\n",
    "'''\n",
    "# 设定优先级，对于少数种类的故障，优先标记\n",
    "code_prev = {\n",
    "    1206: 0,\n",
    "    1141: 1,\n",
    "    1182: 2,\n",
    "    1168: -1,\n",
    "    1239: -1,\n",
    "    1168: -1,\n",
    "    1211: -1,\n",
    "    1216: -1,\n",
    "    1209: -1,\n",
    "    1145: -1,\n",
    "    1341: -1,\n",
    "    1246: -1,\n",
    "    1215: -1,\n",
    "    1122: -1\n",
    "}\n",
    "\n",
    "delta = timedelta(minutes = 300)\n",
    "left_delta = delta\n",
    "right_delta = delta\n",
    "# 从有故障的设备列表中取出一台设备\n",
    "for dev_id in prob_uniqs:\n",
    "    # 取出这台设备的全部数据\n",
    "    cdf = up_data[up_data.UNIQUENO == dev_id].copy()\n",
    "    cdf['index'] = cdf.index\n",
    "    cdf.reset_index(inplace=True)\n",
    "    # 取出这台设备故障码不为空的数据\n",
    "    notna_cdf = cdf[cdf.CODE.notna()]\n",
    "#     print(datetime.now(), dev_id, cdf.shape[0], notna_cdf.shape[0])\n",
    "    cdf_len = cdf.shape[0]\n",
    "    # 在这台设备数据中遍历不为空的位置\n",
    "    for i in notna_cdf.index:\n",
    "        dt = cdf.at[i, 'COLLECTTIME']\n",
    "        code = cdf.at[i, 'CODE']\n",
    "        # 在前后时间间隔内打标签\n",
    "        for y in range(i, -1, -1):\n",
    "            y_code = up_data.at[cdf.at[y, 'index'], 'FLAG']\n",
    "            if y_code > 0 and code_prev[y_code] >= code_prev[code]:\n",
    "                break\n",
    "            elif cdf.at[y, 'COLLECTTIME'] >= dt - left_delta:\n",
    "                up_data.at[cdf.at[y, 'index'], 'FLAG'] = code\n",
    "            else:\n",
    "                break\n",
    "        \n",
    "        for y in range(i + 1, cdf_len, 1):\n",
    "            y_code = up_data.at[cdf.at[y, 'index'], 'FLAG']\n",
    "            if y_code > 0 and code_prev[y_code] >= code_prev[code]:\n",
    "                break\n",
    "            elif cdf.at[y, 'COLLECTTIME'] <= dt + right_delta:\n",
    "                up_data.at[cdf.at[y, 'index'], 'FLAG'] = code\n",
    "            else:\n",
    "                break\n",
    "\n",
    "# 3.保留有用的列\n",
    "#columns_filter,util_cols由人工提供\n",
    "columns_filter = ['CD_VP_UNIQUENO', 'AREA', 'ROAD', 'LONGITUDE', 'LATITUDE', 'SPEED',\n",
    "       'DIRECTION', 'ALTITUDE', 'ACCSTATE', 'POWERDOWNSTATE', 'LOCATIONSTATE',\n",
    "       'WORKHOURS', 'ACCRUNTIMES', 'ACCWORKTIMES', 'PRESSURE',\n",
    "       'WATERTEMPERATURE', 'OILLOCATION', 'OILTEMPERATURE', 'OILPRESSURE',\n",
    "       'ROUNDSPEED', 'ACCEXCCOUNT', 'GSMSIGNAL', 'WORKDETAILID',\n",
    "       'VEHICLESTATUS', 'TERMINALSTATUS', 'SATELLITE', 'TERMINALEL_OUTSIDE',\n",
    "       'TERMINALEL_INSIDE', 'INSIDE_TEMPERATURE', 'INSIDE_HUMIDITY',\n",
    "       'MILENUMBER', 'OILVALUE1', 'OILVALUE2', 'MIXSTATE', 'QUSHOILTIMES',\n",
    "       'ENVTEMPERATURE', 'PULSESIGNS', 'ENVHUMIDITY', 'OILPERCENT1',\n",
    "       'ELCANDVOL', 'WIRELESSTEMP1', 'WIRELESSTEMP2', 'WIRELESSTEMP3',\n",
    "       'WIRELESSTEMP4', 'SIMNO', 'OPTOILLEVEL', 'ENGINELOADSTATE', 'CMDTYPE',\n",
    "       'ISANALYSED', 'VERSIONNUM', 'LOCK_INSTRUMENT', 'ALARM_0010',\n",
    "       'ALARM_0003', 'ALARM_0008', 'ALARM_0005', 'ALARM_0006', 'ALARM_0007',\n",
    "       'ALARM_0009', 'LOWVOLTAGESTATUS', 'ALARM_0002', 'ALARM_0004',\n",
    "       'ALARM_0001', 'THROTTLECURRENT', 'CURRENTSPEEDLOADPERCENTAGE',\n",
    "       'ENGINETORQUEPERCENT', 'ROTATIONALSPEED', 'ENGINERUNTIMES',\n",
    "       'COOLANTTEMPERATURE', 'ENGINEOILTEMPERATURE', 'INTAKETEMPERATURE',\n",
    "       'TEMPERATURE', 'LUBRICATINGOILPRESSURE', 'COOLANTLEVEL',\n",
    "       'INTAKEMANIFOLDTEMPERATURE', 'FUELUSETOTAL', 'OILCONSUMPTIONRATE',\n",
    "       'CURRENTFAULTCOUNT1', 'CURRENTFAULTCOUNT2', 'CURRENTFAULTCOUNT3',\n",
    "       'CURRENTFAULTCOUNT4', 'CURRENTFAULTCOUNT5', 'CURRENTFAULTCOUNT6','FLAG','UNIQUENO','COLLECTTIME']\n",
    "util_cols = ['COLLECTTIME','FLAG','UNIQUENO']\n",
    "\n",
    "# 筛选出这四类故障的数据\n",
    "x_train = up_data[up_data.FLAG.isin({0,1206,1141,1182})]\n",
    "x_data = x_train[columns_filter]\n",
    "y_train = x_data['FLAG']\n",
    "y_train.replace(1206,1,inplace=True)\n",
    "y_train.replace(1141,2,inplace=True)\n",
    "y_train.replace(1182,3,inplace=True)\n",
    "x_data['FLAG'] = y_train.values \n",
    "x_data.index = pd.to_datetime(x_data['COLLECTTIME'])\n",
    "\n",
    "train_x_cols = ['UNIQUENO','CD_VP_UNIQUENO', 'AREA', 'ROAD', 'LONGITUDE', 'LATITUDE', 'SPEED',\n",
    "       'DIRECTION', 'ALTITUDE', 'ACCSTATE', 'POWERDOWNSTATE', 'LOCATIONSTATE',\n",
    "       'WORKHOURS', 'ACCRUNTIMES', 'ACCWORKTIMES', 'PRESSURE',\n",
    "       'WATERTEMPERATURE', 'OILLOCATION', 'OILTEMPERATURE', 'OILPRESSURE',\n",
    "       'ROUNDSPEED', 'ACCEXCCOUNT', 'GSMSIGNAL', 'WORKDETAILID',\n",
    "       'VEHICLESTATUS', 'TERMINALSTATUS', 'SATELLITE', 'TERMINALEL_OUTSIDE',\n",
    "       'TERMINALEL_INSIDE', 'INSIDE_TEMPERATURE', 'INSIDE_HUMIDITY',\n",
    "       'MILENUMBER', 'OILVALUE1', 'OILVALUE2', 'MIXSTATE', 'QUSHOILTIMES',\n",
    "       'ENVTEMPERATURE', 'PULSESIGNS', 'ENVHUMIDITY', 'OILPERCENT1',\n",
    "       'ELCANDVOL', 'WIRELESSTEMP1', 'WIRELESSTEMP2', 'WIRELESSTEMP3',\n",
    "       'WIRELESSTEMP4', 'SIMNO', 'OPTOILLEVEL', 'ENGINELOADSTATE', 'CMDTYPE',\n",
    "       'ISANALYSED', 'VERSIONNUM', 'LOCK_INSTRUMENT', 'ALARM_0010',\n",
    "       'ALARM_0003', 'ALARM_0008', 'ALARM_0005', 'ALARM_0006', 'ALARM_0007',\n",
    "       'ALARM_0009', 'LOWVOLTAGESTATUS', 'ALARM_0002', 'ALARM_0004',\n",
    "       'ALARM_0001', 'THROTTLECURRENT', 'CURRENTSPEEDLOADPERCENTAGE',\n",
    "       'ENGINETORQUEPERCENT', 'ROTATIONALSPEED', 'ENGINERUNTIMES',\n",
    "       'COOLANTTEMPERATURE', 'ENGINEOILTEMPERATURE', 'INTAKETEMPERATURE',\n",
    "       'TEMPERATURE', 'LUBRICATINGOILPRESSURE', 'COOLANTLEVEL',\n",
    "       'INTAKEMANIFOLDTEMPERATURE', 'FUELUSETOTAL', 'OILCONSUMPTIONRATE',\n",
    "       'CURRENTFAULTCOUNT1', 'CURRENTFAULTCOUNT2', 'CURRENTFAULTCOUNT3',\n",
    "       'CURRENTFAULTCOUNT4', 'CURRENTFAULTCOUNT5', 'CURRENTFAULTCOUNT6']\n",
    "train_y_col = ['UNIQUENO','FLAG']\n",
    "his_x = x_data[train_x_cols]\n",
    "his_y = x_data[train_y_col]"
   ]
  },
  {
   "cell_type": "markdown",
   "metadata": {},
   "source": [
    "## 3.数据处理\n",
    "参数： start，end(格式：YYYY-mm-dd，自定义选择历史数据的时间范围）  \n",
    "功能：做特征处理，特征选择，根据历史的健康数据训练出的数据标准化类对象    \n",
    "输入：his_x,his_y  \n",
    "输出：\n",
    "train_ax(DataFrame): 所有特征数据 + UNIQUENO   \n",
    "train_ay(DataFrame): 所有的标签(FLAG) + UNIQUENO  \n",
    "train_x(DataFrame): 所有特征数据\n",
    "train_y(DataFrame): 所有的标签(FLAG)  \n",
    "train_UNIQUENO(DataFrame):UNIQUENO  \n",
    "\n",
    "train_x_baseline(DataFrame): 健康的特征数据   \n",
    "train_x_degraded(DataFrame): 故障的特征数据 \n",
    "\n",
    "   \n",
    "selcted_features(list):筛选出来的特征  \n",
    "train_x_baseline_sel(DataFrame): 经过特征筛选的健康的特征数据  \n",
    "train_x_degraded_sel(DataFrame): 经过特征筛选的健康故障的特征数据  \n",
    "\n",
    "train_x_baseline_stand(DataFrame): 标准化的健康故障的特征数据  \n",
    "scaler(object):数据标准化类对象\n",
    " \n"
   ]
  },
  {
   "cell_type": "code",
   "execution_count": 4,
   "metadata": {},
   "outputs": [],
   "source": [
    "# 0.自定义历史数据的时间范围\n",
    "start = '2017-01-01'\n",
    "end = '2018-12-12'\n",
    "def get_train(his_x,his_y,start=start, end=end):\n",
    "    return his_x[start:end],his_y[start:end]\n",
    "train_ax, train_ay = get_train(his_x,his_y,start='2017-01-01', end='2018-12-12')\n",
    "\n",
    "# 1.数据预处理\n",
    "# <1>删除null_col\n",
    "train_x = train_ax.drop(columns=['UNIQUENO']).copy()\n",
    "train_y = train_ay.drop(columns=['UNIQUENO']).copy()\n",
    "null_filter = [col for col in train_x.columns if not train_x[col].isnull().all()] \n",
    "train_x = train_x[null_filter] # 不含UNIQUENO\n",
    "train_UNIQUENO = train_ax[['UNIQUENO']] \n",
    "                  \n",
    "# <2>缺失值处理\n",
    "train_x.fillna(0,inplace=True)\n",
    "train_xy = pd.concat([train_x,train_y], axis=1)\n",
    "# <3>取FLAG=0的数据，即健康数据\n",
    "train_x_baseline = train_xy[train_xy.FLAG==0].drop(columns=['FLAG'])\n",
    "train_x_degraded = train_xy[train_xy.FLAG!=0].drop(columns=['FLAG'])\n"
   ]
  },
  {
   "cell_type": "code",
   "execution_count": 5,
   "metadata": {},
   "outputs": [],
   "source": [
    "# 3.计算几种metrics\n",
    "# <1>fisher metric\n",
    "cols = train_x_baseline.columns\n",
    "m1 = train_x_baseline.mean().values\n",
    "m2 = train_x_degraded.mean().values\n",
    "var1 = train_x_baseline.var().values\n",
    "var2 = train_x_degraded.var().values\n",
    "a = (m1-m2)*(m1-m2)\n",
    "b1 = var1\n",
    "b2 = var2\n",
    "b = b1+b2\n",
    "fisher_score = a/b\n",
    "fisher_rank = pd.Series(data=fisher_score,index=cols).rank(na_option='drop',ascending=False).sort_values() # rank()不会改变顺序\n"
   ]
  },
  {
   "cell_type": "code",
   "execution_count": 6,
   "metadata": {},
   "outputs": [],
   "source": [
    "# 4.根据metric来排序特征，然后选择特征\n",
    "feature_rank = fisher_rank\n",
    "feature_rank = feature_rank\n",
    "selcted_features = list(feature_rank.index[:int(0.4*len(feature_rank))])\n",
    "train_x_baseline_sel = train_x_baseline[selcted_features]\n",
    "train_x_degraded_sel = train_x_degraded[selcted_features]\n",
    "train_x_sel = train_x[selcted_features]\n",
    "\n",
    "\n",
    "# 5.数据标准化\n",
    "# <1>定义baseline数据标准化函数\n",
    "def standard_scale(x):\n",
    "    if x.shape[0]==0:\n",
    "        return x,0,0\n",
    "    idx = x.index\n",
    "    m = x.mean()\n",
    "    std = x.std()\n",
    "    scaler = StandardScaler()\n",
    "    scaler.fit(x)\n",
    "    x_arr = scaler.transform(x)\n",
    "    return pd.DataFrame(x_arr, index = idx, columns =x.columns),scaler\n",
    "\n",
    "# <2>使用健康数生成的scaler，定义对所有测试的数据做归一化标准化的函数\n",
    "def standard_scale_new(data,scaler):\n",
    "    cols = data.columns\n",
    "    idx = data.index\n",
    "    data_s = scaler.transform(data.values)\n",
    "    return pd.DataFrame(data=data_s,columns=cols,index=idx)\n",
    "\n",
    "train_x_baseline_stand,scaler = standard_scale(train_x_baseline_sel)"
   ]
  },
  {
   "cell_type": "markdown",
   "metadata": {},
   "source": [
    "## 4.健康模型训练和保存\n",
    "功能：健康模型训练和保存  \n",
    "输入：train_x_baseline_stand  \n",
    "输出：  \n",
    "pca(object):健康模型"
   ]
  },
  {
   "cell_type": "code",
   "execution_count": 7,
   "metadata": {},
   "outputs": [
    {
     "data": {
      "text/plain": [
       "['./model/pca_2017-01-01_2018-12-12.pkl']"
      ]
     },
     "execution_count": 7,
     "metadata": {},
     "output_type": "execute_result"
    }
   ],
   "source": [
    "# pca and T2\n",
    "import joblib\n",
    "import os\n",
    "from sklearn.decomposition import PCA\n",
    "def dimension_reduction(x,whiten=True):\n",
    "    pca = PCA(n_components=0.95,whiten=whiten).fit(x)\n",
    "    return pca\n",
    "\n",
    "def cal_T2(data,pca):\n",
    "    T2=[]\n",
    "    projected_data = pca.transform(data)\n",
    "    eigenvalue_matrix = np.mat(np.diag(pca.singular_values_ ))\n",
    "    for x in projected_data:\n",
    "        tmp = np.mat(x)*np.linalg.inv(eigenvalue_matrix)*np.mat(x).T\n",
    "        T2.append(tmp[0,0])\n",
    "    return T2\n",
    "      \n",
    "# 使用归一化的健康数据\n",
    "pca = dimension_reduction(train_x_baseline_stand.values,whiten=False)\n",
    "if not os.path.exists('model'):\n",
    "    os.mkdir('./model')\n",
    "# 保存pca模型\n",
    "joblib.dump(pca,'./model/pca_%s_%s.pkl'%(start,end))"
   ]
  },
  {
   "cell_type": "markdown",
   "metadata": {},
   "source": [
    "## 5.健康分排序\n",
    "参数： start，end(格式：YYYY-mm-dd，自定义选择历史数据的时间范围）  \n",
    "功能：给定时间范围，计算所有的设备的健康分数排序  \n",
    "输入：his_x,his_y  \n",
    "输出：score_rank(Series)"
   ]
  },
  {
   "cell_type": "code",
   "execution_count": 1,
   "metadata": {},
   "outputs": [],
   "source": [
    "import os\n",
    "import datetime as dt\n",
    "from datetime import timedelta\n",
    "\n",
    "\n",
    "def gen_interval(data,y,scaler,UNIQUENO,selcted_features,start='2017-03-01',end='2018-10-12'):\n",
    "   # 指定时间间隔，UNIQUENO，返回 可以直接用于计算的数据（已做过相同的特征处理）\n",
    "    # 1.选数据\n",
    "    if UNIQUENO == -1:\n",
    "        data_unino = data.drop(columns=['UNIQUENO'])\n",
    "        y_unino  =y.drop(columns=['UNIQUENO'])\n",
    "    else:\n",
    "    # <1> 选设备\n",
    "        data_unino = data[data.UNIQUENO==UNIQUENO].drop(columns=['UNIQUENO'])\n",
    "        y_unino = y[y.UNIQUENO==UNIQUENO].drop(columns=['UNIQUENO'])\n",
    "\n",
    "    # <2> 选时间片段\n",
    "    data_date = data_unino[start:end]\n",
    "    y_date = y_unino[start:end]\n",
    "    data_date.sort_index(inplace=True)\n",
    "    y_date.sort_index(inplace=True)\n",
    "    # <3> 选特征\n",
    "    data_sel = data_date[selcted_features]\n",
    "    if data_sel.empty:\n",
    "        return data_sel,data_date\n",
    "    \n",
    "    # 2.相同的特征处理\n",
    "    # <1> fillna\n",
    "    data_sel.fillna(0,inplace=True)\n",
    "    # <2>标准化\n",
    "    data_stand = standard_scale_new(data_sel,scaler)\n",
    "    return data_stand,y_date\n",
    "\n",
    "# data_stand,y_date = gen_interval(his_x,his_y,scaler,UNIQUENO,selcted_features,start='2018-04-25',end='2018-04-30')"
   ]
  },
  {
   "cell_type": "code",
   "execution_count": 19,
   "metadata": {},
   "outputs": [],
   "source": [
    "def cal_all_T2(x,y,scaler,selcted_features,start='2017-03-01',end='2018-10-12'):\n",
    "    unino = y.UNIQUENO.value_counts().index[:100]\n",
    "    res = dict()\n",
    "    for UNIQUENO in unino:\n",
    "        # 1.提取符合条件的数据\n",
    "        data,_ = gen_interval(x, y, scaler, UNIQUENO, selcted_features, start, end)\n",
    "        # 2.计算T2值\n",
    "        if data.empty:\n",
    "            print('%s至%s,id为%d的设备无数据！'%(start,end,UNIQUENO))\n",
    "            continue\n",
    "        T2 = cal_T2(data,pca)\n",
    "        T2 = pd.DataFrame(data=T2,columns=['T2'], index=data.index)\n",
    "        T2_ewm = T2.ewm(alpha=0.4).mean()\n",
    "        T2_ewm_mean = T2_ewm['T2'].mean()\n",
    "        res[UNIQUENO] = T2_ewm_mean\n",
    "        # 输出T2_ewm(DataFrame)\n",
    "    score_rank = pd.Series(res).rank(method='dense',ascending=True).sort_values() # T2值大，排名靠后\n",
    "    return score_rank"
   ]
  },
  {
   "cell_type": "code",
   "execution_count": 20,
   "metadata": {},
   "outputs": [
    {
     "name": "stdout",
     "output_type": "stream",
     "text": [
      "2018-04-23至2018-04-27,id为201710211430023374的设备无数据！\n",
      "2018-04-23至2018-04-27,id为201701061100251460的设备无数据！\n",
      "CPU times: user 16.9 s, sys: 1min 50s, total: 2min 7s\n",
      "Wall time: 10.7 s\n"
     ]
    }
   ],
   "source": [
    "%%time\n",
    "# 计算指定天的分数\n",
    "score_rank = cal_all_T2(his_x,his_y,scaler,selcted_features,start='2018-04-23',end='2018-04-27')"
   ]
  },
  {
   "cell_type": "code",
   "execution_count": 21,
   "metadata": {},
   "outputs": [
    {
     "data": {
      "text/plain": [
       "201702251130053442     1.0\n",
       "201512231030009939     2.0\n",
       "201702150930022662     3.0\n",
       "201701061057011443     4.0\n",
       "201707201630029534     5.0\n",
       "201703061008214110     6.0\n",
       "201701061057021452     7.0\n",
       "201701061057021458     8.0\n",
       "201711151530004024     9.0\n",
       "201601231030021592    10.0\n",
       "201703201230014938    11.0\n",
       "201702211030013081    12.0\n",
       "201801261730005948    13.0\n",
       "201703080930044268    14.0\n",
       "201706051100098485    15.0\n",
       "201702251130053444    16.0\n",
       "201711271129594229    17.0\n",
       "201703101230034529    18.0\n",
       "201701131530071699    19.0\n",
       "201702081330022189    20.0\n",
       "201512231030009937    21.0\n",
       "201703191430034905    22.0\n",
       "201601231030021591    23.0\n",
       "201610211330067937    24.0\n",
       "201601250830021604    25.0\n",
       "201612160830029882    26.0\n",
       "201601191830011465    27.0\n",
       "201701061057021455    28.0\n",
       "201705272357138269    29.0\n",
       "201703121021324582    30.0\n",
       "                      ... \n",
       "201704181630016205    69.0\n",
       "201703301735255408    70.0\n",
       "201706071000178525    71.0\n",
       "201708031930001041    72.0\n",
       "201703280830045243    73.0\n",
       "201705101530077175    74.0\n",
       "201705272356008266    75.0\n",
       "201706011015048393    76.0\n",
       "201704140835245913    77.0\n",
       "201704140835245916    78.0\n",
       "201703071830014240    79.0\n",
       "201704150830046015    80.0\n",
       "201712091630064541    81.0\n",
       "201703101812034565    82.0\n",
       "201706021829598423    83.0\n",
       "201706281730069065    84.0\n",
       "201705061530026982    85.0\n",
       "201705241030007990    86.0\n",
       "201705081705327063    87.0\n",
       "201704111435245796    88.0\n",
       "201703061730024202    89.0\n",
       "201704180930016169    90.0\n",
       "201704301730016764    91.0\n",
       "201703121021344583    92.0\n",
       "201707190829599480    93.0\n",
       "201702231530043271    94.0\n",
       "201709041730122120    95.0\n",
       "201703080930054274    96.0\n",
       "201704111435245794    97.0\n",
       "201701201030011850    98.0\n",
       "Length: 98, dtype: float64"
      ]
     },
     "execution_count": 21,
     "metadata": {},
     "output_type": "execute_result"
    }
   ],
   "source": [
    "score_rank"
   ]
  },
  {
   "cell_type": "markdown",
   "metadata": {},
   "source": [
    "## 6.画图像\n",
    "参数：start，end(格式：YYYY-mm-dd，自定义选择历史数据的时间范围）  \n",
    "功能：给定时间范围，画T2值随时间的变化和FLAG随时间的变化  \n",
    "输入:his_x,his_y,scaler,selcted_features  \n",
    "输出:\n",
    "T2(DataFrame):T2值序列  \n",
    "T2_ewm(DataFrame):平滑化的T2值序列  \n",
    "y_date(DataFrame):FLAG序列\n",
    "\n"
   ]
  },
  {
   "cell_type": "code",
   "execution_count": 22,
   "metadata": {},
   "outputs": [],
   "source": [
    "def plot_data(his_x,his_y,scaler,UNIQUENO,selcted_features,start='2018-04-23',end='2018-04-27'):\n",
    "    data_stand,y_date = gen_interval(his_x,his_y,scaler,UNIQUENO,selcted_features,start,end)\n",
    "    T2 = cal_T2(data_stand,pca)\n",
    "    T2 = pd.DataFrame(data=T2,columns=['T2'], index=data_stand.index)\n",
    "    T2_ewm = T2.ewm(alpha=0.4).mean()\n",
    "    T2_ewm.plot()\n",
    "    y_date.plot()\n",
    "    return T2,T2_ewm,y_date"
   ]
  },
  {
   "cell_type": "code",
   "execution_count": 23,
   "metadata": {},
   "outputs": [
    {
     "data": {
      "image/png": "[encoded data removed]",
      "text/plain": [
       "<Figure size 432x288 with 1 Axes>"
      ]
     },
     "metadata": {},
     "output_type": "display_data"
    },
    {
     "data": {
      "image/png": "[encoded data removed]",
      "text/plain": [
       "<Figure size 432x288 with 1 Axes>"
      ]
     },
     "metadata": {},
     "output_type": "display_data"
    }
   ],
   "source": [
    "'''\n",
    "201706130830038670\n",
    "201707201730009538\n",
    "201801261730005948\n",
    "201705272357138269    \n",
    "'''\n",
    "\n",
    "'''\n",
    "全为健康的样本：\n",
    "201706130830038669\n",
    "201601250830021604\n",
    "201612151430019861\n",
    "201702251130053444\n",
    "'''\n",
    "UNIQUENO = 201707201730009538\n",
    "T2,T2_ewm,y_date = plot_data(his_x,his_y,scaler,UNIQUENO,selcted_features,start='2018-04-01',end='2018-04-30')"
   ]
  },
  {
   "cell_type": "markdown",
   "metadata": {},
   "source": [
    "## 7.查看baseline、degraded的分布,得到健康基线 error_line和warning_line\n",
    "参数：start，end(格式：YYYY-mm-dd，自定义选择历史数据的时间范围）  \n",
    "超参数（确定基线的阈值）：x1(baseline对应的分位数),x2(degraded对应的分位数)  \n",
    "功能：查看给定时间范围内的baseline、degraded的分布,得到健康基线 error_line和warning_line  \n",
    "输入：his_x,his_y,scaler,selcted_features  \n",
    "输出：baseline_per95(warning line),degraded_per05(error line)"
   ]
  },
  {
   "cell_type": "code",
   "execution_count": 26,
   "metadata": {},
   "outputs": [],
   "source": [
    "def plot_T2(his_x,his_y,scaler,UNIQUENO,selcted_features,start='2018-04-01',end='2018-04-30'):\n",
    "    data_stand,y_date = gen_interval(his_x,his_y,scaler,UNIQUENO,selcted_features,start,end)\n",
    "    T2 = cal_T2(data_stand,pca)\n",
    "    T2 = pd.DataFrame(data=T2,columns=['T2'], index=data_stand.index)\n",
    "    T2_ewm = T2.ewm(alpha=0.4).mean()\n",
    "    T2_ewm.plot()\n",
    "    y_date.plot()\n",
    "    return T2,T2_ewm,y_date"
   ]
  },
  {
   "cell_type": "code",
   "execution_count": 27,
   "metadata": {},
   "outputs": [
    {
     "name": "stdout",
     "output_type": "stream",
     "text": [
      "CPU times: user 55 s, sys: 4min 17s, total: 5min 12s\n",
      "Wall time: 26.4 s\n"
     ]
    },
    {
     "data": {
      "image/png": "[encoded data removed]",
      "text/plain": [
       "<Figure size 432x288 with 1 Axes>"
      ]
     },
     "metadata": {},
     "output_type": "display_data"
    }
   ],
   "source": [
    "%%time\n",
    "# 使用所有的故障数据，因为故障数据较少\n",
    "train_degraded_stand = standard_scale_new(train_x_degraded_sel,scaler)\n",
    "T2_degraded = cal_T2(train_degraded_stand,pca)\n",
    "T2_degraded = pd.DataFrame(data=T2_degraded,columns=['T2_degraded'], index=train_degraded_stand.index)\n",
    "sns.distplot(T2_degraded.T2_degraded)"
   ]
  },
  {
   "cell_type": "code",
   "execution_count": 28,
   "metadata": {},
   "outputs": [
    {
     "data": {
      "text/plain": [
       "<matplotlib.axes._subplots.AxesSubplot at 0x7f67d7080fd0>"
      ]
     },
     "execution_count": 28,
     "metadata": {},
     "output_type": "execute_result"
    },
    {
     "data": {
      "image/png": "[encoded data removed]",
      "text/plain": [
       "<Figure size 432x288 with 1 Axes>"
      ]
     },
     "metadata": {},
     "output_type": "display_data"
    }
   ],
   "source": [
    "# 健康数据\n",
    "T2_baseline = cal_T2(train_x_baseline_stand,pca)\n",
    "T2_baseline = pd.DataFrame(data=T2_baseline,columns=['T2_baseline'], index=train_x_baseline_stand.index)\n",
    "sns.distplot(T2_baseline.T2_baseline)"
   ]
  },
  {
   "cell_type": "code",
   "execution_count": 31,
   "metadata": {},
   "outputs": [],
   "source": [
    "# 数据标签并不是完全正确的\n",
    "x1 = 95 # baseline对应的分位数\n",
    "x2 = 5 # degraded对应的分位数\n",
    "baseline_per95 = np.percentile(T2_baseline.values,x1)\n",
    "degraded_per05 = np.percentile(T2_degraded[T2_degraded.T2_degraded>baseline_per95].values,x2)\n",
    "\n",
    "error_line = (baseline_per95+degraded_per05)/2\n",
    "warning_line = baseline_per95"
   ]
  },
  {
   "cell_type": "code",
   "execution_count": 61,
   "metadata": {},
   "outputs": [
    {
     "data": {
      "text/html": [
       "<div>\n",
       "<style scoped>\n",
       "    .dataframe tbody tr th:only-of-type {\n",
       "        vertical-align: middle;\n",
       "    }\n",
       "\n",
       "    .dataframe tbody tr th {\n",
       "        vertical-align: top;\n",
       "    }\n",
       "\n",
       "    .dataframe thead th {\n",
       "        text-align: right;\n",
       "    }\n",
       "</style>\n",
       "<table border=\"1\" class=\"dataframe\">\n",
       "  <thead>\n",
       "    <tr style=\"text-align: right;\">\n",
       "      <th></th>\n",
       "      <th>T2_degraded</th>\n",
       "    </tr>\n",
       "    <tr>\n",
       "      <th>COLLECTTIME</th>\n",
       "      <th></th>\n",
       "    </tr>\n",
       "  </thead>\n",
       "  <tbody>\n",
       "    <tr>\n",
       "      <th>2018-04-01 02:21:54</th>\n",
       "      <td>0.011479</td>\n",
       "    </tr>\n",
       "    <tr>\n",
       "      <th>2018-04-01 02:32:02</th>\n",
       "      <td>0.014572</td>\n",
       "    </tr>\n",
       "    <tr>\n",
       "      <th>2018-04-01 02:34:51</th>\n",
       "      <td>0.014102</td>\n",
       "    </tr>\n",
       "    <tr>\n",
       "      <th>2018-04-01 02:37:57</th>\n",
       "      <td>0.011815</td>\n",
       "    </tr>\n",
       "    <tr>\n",
       "      <th>2018-04-01 02:39:22</th>\n",
       "      <td>0.011876</td>\n",
       "    </tr>\n",
       "  </tbody>\n",
       "</table>\n",
       "</div>"
      ],
      "text/plain": [
       "                     T2_degraded\n",
       "COLLECTTIME                     \n",
       "2018-04-01 02:21:54     0.011479\n",
       "2018-04-01 02:32:02     0.014572\n",
       "2018-04-01 02:34:51     0.014102\n",
       "2018-04-01 02:37:57     0.011815\n",
       "2018-04-01 02:39:22     0.011876"
      ]
     },
     "execution_count": 61,
     "metadata": {},
     "output_type": "execute_result"
    }
   ],
   "source": [
    "T2_degraded.head()"
   ]
  },
  {
   "cell_type": "code",
   "execution_count": 32,
   "metadata": {},
   "outputs": [
    {
     "data": {
      "text/plain": [
       "(0.029813397251750716, 0.11420277289923544)"
      ]
     },
     "execution_count": 32,
     "metadata": {},
     "output_type": "execute_result"
    }
   ],
   "source": [
    "baseline_per95,degraded_per05"
   ]
  },
  {
   "cell_type": "code",
   "execution_count": 33,
   "metadata": {},
   "outputs": [
    {
     "data": {
      "text/plain": [
       "<matplotlib.collections.LineCollection at 0x7f67d215af28>"
      ]
     },
     "execution_count": 33,
     "metadata": {},
     "output_type": "execute_result"
    },
    {
     "data": {
      "image/png": "[encoded data removed]",
      "text/plain": [
       "<Figure size 720x576 with 1 Axes>"
      ]
     },
     "metadata": {},
     "output_type": "display_data"
    }
   ],
   "source": [
    "plt.figure(figsize=(10,8))\n",
    "sns.distplot(T2_degraded.T2_degraded)\n",
    "sns.distplot(T2_baseline.T2_baseline)\n",
    "plt.vlines(warning_line,0,25,'g','dashed')\n",
    "plt.vlines(error_line,0,25,'r','dashed')"
   ]
  },
  {
   "cell_type": "markdown",
   "metadata": {},
   "source": [
    "## 8.根据T2值计算分数\n",
    "功能：计算分数  \n",
    "输入：T2_ewm(平滑化的T2值）  \n",
    "输出：health_score  "
   ]
  },
  {
   "cell_type": "code",
   "execution_count": 49,
   "metadata": {},
   "outputs": [],
   "source": [
    "# error_line的分数\n",
    "s1 = 0.6\n",
    "x1 = error_line\n",
    "# warning_line的分数\n",
    "s2 = 0.7\n",
    "x2 = warning_line\n",
    "def gen_score_model(s1,s2,x1,x2):\n",
    "    k=(np.log(1/s1-1)-np.log(1/s2-1))/(x2-x1)\n",
    "    b = -np.log(1/s1-1)-k*x1\n",
    "    return k,b\n",
    "def sigmod(x,k,b):\n",
    "    return 1/(1+np.exp(-(k*x+b)))"
   ]
  },
  {
   "cell_type": "code",
   "execution_count": 50,
   "metadata": {},
   "outputs": [],
   "source": [
    "k,b = gen_score_model(s1,s2,x1,x2)"
   ]
  },
  {
   "cell_type": "code",
   "execution_count": 58,
   "metadata": {},
   "outputs": [
    {
     "data": {
      "text/plain": [
       "<matplotlib.collections.LineCollection at 0x7f66ebc29b00>"
      ]
     },
     "execution_count": 58,
     "metadata": {},
     "output_type": "execute_result"
    },
    {
     "data": {
      "image/png": "[encoded data removed]",
      "text/plain": [
       "<Figure size 432x288 with 1 Axes>"
      ]
     },
     "metadata": {},
     "output_type": "display_data"
    }
   ],
   "source": [
    "health_score = sigmod(T2_ewm.T2.values,k,b)\n",
    "plt.plot(T2_ewm.index,health_score)\n",
    "plt.hlines(s1,T2_ewm.index[0],T2_ewm.index[-1],'r','dashed')\n",
    "plt.hlines(s2,T2_ewm.index[0],T2_ewm.index[-1],'g','dashed')"
   ]
  },
  {
   "cell_type": "markdown",
   "metadata": {},
   "source": [
    "## 9.计算每一维的贡献度  \n",
    "参数： start，end,UNIQUENO(格式：YYYY-mm-dd，自定义选择历史数据的时间范围）\n",
    "功能：给定时间范围，计算指定设备的每一维的贡献度  \n",
    "输入：his_x,his_y,selcted_features,pca\n",
    "输出：contrib(Series)"
   ]
  },
  {
   "cell_type": "code",
   "execution_count": 146,
   "metadata": {},
   "outputs": [],
   "source": [
    "def cal_fea_T2(data,pca):\n",
    "    '''\n",
    "    data(DataFrame):m个样本，n个维度\n",
    "    '''\n",
    "    # 计算总得分\n",
    "#     T2 = cal_T2(data,pca)\n",
    "    # 计算每个维度的得分\n",
    "    T2_cols = []\n",
    "    cols = list(data.columns)\n",
    "    for i in range(len(cols)):\n",
    "        tmp = np.zeros(data.shape)\n",
    "        tmp[:,i] = data.iloc[:,i].values\n",
    "        T2_col = cal_T2(tmp,pca)\n",
    "        T2_cols.append(T2_col)\n",
    "        \n",
    "#     T2 =np.array(T2).reshape((-1,1))\n",
    "    T2_cols = np.array(T2_cols).T\n",
    "#     T2_all = np.concatenate((T2,T2_cols),axis=1)\n",
    "#     return pd.DataFrame(data=T2_all, columns=['T2']+cols, index = data.index)\n",
    "    return pd.DataFrame(data=T2_cols,columns=cols,index=data.index)\n",
    "\n",
    "def cal_contrib(his_x,his_y,scaler,UNIQUENO,selcted_features,pca,start='2017-04-23',end='2018-04-27'):\n",
    "    data_stand,y_date = gen_interval(his_x,his_y,scaler,UNIQUENO,selcted_features,start,end)\n",
    "    result = cal_fea_T2(data_stand,pca)\n",
    "    res_mean = result.mean(axis=0)\n",
    "    res_sum = res_mean.sum()\n",
    "    contrib = res_mean/res_sum\n",
    "    contrib = contrib.sort_values(ascending=False)\n",
    "    return contrib"
   ]
  },
  {
   "cell_type": "code",
   "execution_count": 136,
   "metadata": {},
   "outputs": [],
   "source": [
    "contrib = cal_contrib(his_x,his_y,scaler,UNIQUENO,selcted_features,pca,start='2018-04-22',end='2018-04-26')"
   ]
  },
  {
   "cell_type": "code",
   "execution_count": null,
   "metadata": {},
   "outputs": [],
   "source": []
  }
 ],
 "metadata": {
  "kernelspec": {
   "display_name": "Python 3",
   "language": "python",
   "name": "python3"
  },
  "language_info": {
   "codemirror_mode": {
    "name": "ipython",
    "version": 3
   },
   "file_extension": ".py",
   "mimetype": "text/x-python",
   "name": "python",
   "nbconvert_exporter": "python",
   "pygments_lexer": "ipython3",
   "version": "3.6.5"
  },
  "toc": {
   "base_numbering": 1,
   "nav_menu": {},
   "number_sections": true,
   "sideBar": true,
   "skip_h1_title": false,
   "title_cell": "Table of Contents",
   "title_sidebar": "Contents",
   "toc_cell": false,
   "toc_position": {},
   "toc_section_display": true,
   "toc_window_display": true
  }
 },
 "nbformat": 4,
 "nbformat_minor": 2
}
